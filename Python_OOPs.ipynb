{
  "nbformat": 4,
  "nbformat_minor": 0,
  "metadata": {
    "colab": {
      "provenance": []
    },
    "kernelspec": {
      "name": "python3",
      "display_name": "Python 3"
    },
    "language_info": {
      "name": "python"
    }
  },
  "cells": [
    {
      "cell_type": "markdown",
      "source": [
        "# Python OOPs - Theory Questions"
      ],
      "metadata": {
        "id": "4N54-1VRWIgB"
      }
    },
    {
      "cell_type": "markdown",
      "source": [
        "**1.  What is Object-Oriented Programming (OOP)?**\n",
        "   - Object-Oriented Programming (OOP) is a programming based on the concept of “objects”. These objects can contain data, in the form of fields (often called attributes), and code, in the form of procedures (often called methods).\n",
        "   - Uses of OOPs:\n",
        "             -> Makes code easier to manage\n",
        "             -> Encourages reusability through inheritance\n",
        "             -> Helps in organizing complex programs\n",
        "             -> Makes debugging and testing more efficient\n",
        "   - For Example:"
      ],
      "metadata": {
        "id": "xbRqID0YWwiN"
      }
    },
    {
      "cell_type": "code",
      "source": [
        "class Book:\n",
        "    def __init__(self, name, author, title):\n",
        "        self.name_of_book = name\n",
        "        self.book_author = author\n",
        "        self.title_name = title\n",
        "\n",
        "    def extract_details_name_title(self):\n",
        "        print(self.name_of_book,self.title_name)\n",
        "\n",
        "    def extract_details_name_author(self):\n",
        "        print(self.name_of_book, self.book_author)"
      ],
      "metadata": {
        "id": "Rx24eJPIX5jv"
      },
      "execution_count": null,
      "outputs": []
    },
    {
      "cell_type": "code",
      "source": [
        "student1 = Book(\"Data Science\", \"Murphy\", \"Functions\")\n",
        "student1.book_author"
      ],
      "metadata": {
        "colab": {
          "base_uri": "https://localhost:8080/",
          "height": 35
        },
        "id": "AV2P86_XYRi_",
        "outputId": "a60ac2e0-6360-4425-9c4f-d6853d9ad88a"
      },
      "execution_count": null,
      "outputs": [
        {
          "output_type": "execute_result",
          "data": {
            "text/plain": [
              "'Murphy'"
            ],
            "application/vnd.google.colaboratory.intrinsic+json": {
              "type": "string"
            }
          },
          "metadata": {},
          "execution_count": 2
        }
      ]
    },
    {
      "cell_type": "markdown",
      "source": [
        "**2. What is a class in OOP?**\n",
        "   - A class is a blueprint or template for creating objects in Object-Oriented Programming.\n",
        "   - It defines Attributes(data/properties) and Methods (functions/behavior).\n",
        "   - But a class itself doesn't hold real data, an object can be created from class which holds real data.\n",
        "   - For Example:"
      ],
      "metadata": {
        "id": "5od0eQFKYt0Q"
      }
    },
    {
      "cell_type": "code",
      "source": [
        "class Animal:\n",
        "  def dog(self):\n",
        "    print(\"This is a Dog\")\n",
        "  def cat(self):\n",
        "    print(\"This is a Cat\")\n",
        "\n"
      ],
      "metadata": {
        "id": "0zylTafdZgSk"
      },
      "execution_count": null,
      "outputs": []
    },
    {
      "cell_type": "code",
      "source": [
        "animals = Animal()"
      ],
      "metadata": {
        "id": "TW8hqu8GZwqU"
      },
      "execution_count": null,
      "outputs": []
    },
    {
      "cell_type": "code",
      "source": [
        "animal.dog()"
      ],
      "metadata": {
        "colab": {
          "base_uri": "https://localhost:8080/"
        },
        "id": "V3d9vlfYaVhy",
        "outputId": "b8cbaf6e-d9a3-4afe-b94d-d086c320201b"
      },
      "execution_count": null,
      "outputs": [
        {
          "output_type": "stream",
          "name": "stdout",
          "text": [
            "This is a Dog\n"
          ]
        }
      ]
    },
    {
      "cell_type": "markdown",
      "source": [
        "**3. What is an object in OOP?**\n",
        "   - Object is the real instance made from a class.\n",
        "   - Each object has its own unique data, even if they’re created from the same class.\n",
        "   - For Example:"
      ],
      "metadata": {
        "id": "kd5TNTybab8X"
      }
    },
    {
      "cell_type": "code",
      "source": [
        "class Student:\n",
        "  def __init__(self, name, age):\n",
        "    self.name = name\n",
        "    self.age = age\n",
        "  def details(self):\n",
        "    print(f\"Hi I am {self.name}. I am {self.age} years old\")\n"
      ],
      "metadata": {
        "id": "FIs9tLQsbEIs"
      },
      "execution_count": null,
      "outputs": []
    },
    {
      "cell_type": "code",
      "source": [
        "stu1 = Student(\"Saa\", 19)\n",
        "stu2 = Student(\"John\",35)\n",
        "stu1.details()\n",
        "stu2.details()"
      ],
      "metadata": {
        "colab": {
          "base_uri": "https://localhost:8080/"
        },
        "id": "pyV9_X4-blJk",
        "outputId": "de11be46-9d4f-4bb3-9506-9a4ef9fd9ef7"
      },
      "execution_count": null,
      "outputs": [
        {
          "output_type": "stream",
          "name": "stdout",
          "text": [
            "Hi I am Saa. I am 19 years old\n",
            "Hi I am John. I am 35 years old\n"
          ]
        }
      ]
    },
    {
      "cell_type": "markdown",
      "source": [
        "**4. What is the difference between abstraction and encapsulation?**\n",
        "   - Abstraction:\n",
        "           -> Focus on hiding complexity\n",
        "           -> Show only what’s necessary\n",
        "           -> Achieved By: Classes, interfaces, methods\n",
        "   - Encapsulation:\n",
        "           -> Focus on hiding data\n",
        "           -> Protect data from unauthorized access\n",
        "           -> Achieved By: Private/public variables & methods\n",
        "   -For Example:"
      ],
      "metadata": {
        "id": "zducl5vXb7in"
      }
    },
    {
      "cell_type": "code",
      "source": [
        "class BankAccount: # Encapsulation\n",
        "    def __init__(self, balance):\n",
        "        self.__balance = balance   # private variable\n",
        "\n",
        "    def get_balance(self):\n",
        "        return self.__balance     # access method\n"
      ],
      "metadata": {
        "id": "yrESY7hOdVTi"
      },
      "execution_count": null,
      "outputs": []
    },
    {
      "cell_type": "code",
      "source": [
        "class Car:# Abstraction\n",
        "    def start(self):\n",
        "        print(\"Car started\")\n"
      ],
      "metadata": {
        "id": "qDeHITkNdj89"
      },
      "execution_count": null,
      "outputs": []
    },
    {
      "cell_type": "markdown",
      "source": [
        "**5. What are dunder methods in Python?**\n",
        "   - Dunder stands for \"double underscore\".\n",
        "   - They are also called magic methods.\n",
        "   - They let objects behave like built-in types.\n",
        "   - Customize object creation, printing, comparison, and more.\n",
        "   - For example:\n",
        "\n",
        "   \n"
      ],
      "metadata": {
        "id": "RPGzOdrpdzPt"
      }
    },
    {
      "cell_type": "code",
      "source": [
        "class Students:\n",
        "  def __init__(self, name, marks):\n",
        "    self.name = name\n",
        "    self.marks = marks\n",
        "  def stu_details(self):\n",
        "    print(f\"Student name is {self.name} and he or she has obtained {self.marks} marks.\")"
      ],
      "metadata": {
        "id": "1FuUjgejex1j"
      },
      "execution_count": null,
      "outputs": []
    },
    {
      "cell_type": "code",
      "source": [
        "stu = Students(\"Saa\",98)\n",
        "stu.stu_details()"
      ],
      "metadata": {
        "colab": {
          "base_uri": "https://localhost:8080/"
        },
        "id": "YymVc3P_fYZn",
        "outputId": "3f688ff9-062f-4ea3-fbbd-97ecf03bdc0e"
      },
      "execution_count": null,
      "outputs": [
        {
          "output_type": "stream",
          "name": "stdout",
          "text": [
            "Student name is Saa and he or she has obtained 98 marks.\n"
          ]
        }
      ]
    },
    {
      "cell_type": "markdown",
      "source": [
        "**6.  Explain the concept of inheritance in OOPs.**\n",
        "   - Inheritance is a concept where one class (child) can inherit the properties and behaviors (attributes and methods) of another class (parent).\n",
        "   - Types of Inheritance in Python:\n",
        "              -> Single:\tOne parent → One child\n",
        "              -> Multiple: \tMultiple parents → One child\n",
        "              -> Multilevel: \tParent → Child → Grandchild\n",
        "              -> Hierarchical: \tOne parent → Many children\n",
        "              -> Hybrid: \tCombination of above types\n",
        "   - For Example:\n"
      ],
      "metadata": {
        "id": "ad_4CfDmfu7H"
      }
    },
    {
      "cell_type": "code",
      "source": [
        "class Father:\n",
        "    def father_property(self):\n",
        "        print(\"This is father property\")\n",
        "\n",
        "class Son(Father):\n",
        "    def job(self):\n",
        "        print(\"This is son property\")"
      ],
      "metadata": {
        "id": "piVxm0BQhea7"
      },
      "execution_count": null,
      "outputs": []
    },
    {
      "cell_type": "code",
      "source": [
        "prop = Son()\n",
        "prop.father_property()\n",
        "prop.job()"
      ],
      "metadata": {
        "colab": {
          "base_uri": "https://localhost:8080/"
        },
        "id": "DY4z7SR5hp6h",
        "outputId": "e141f163-338f-434c-da3a-42aef5ca9008"
      },
      "execution_count": null,
      "outputs": [
        {
          "output_type": "stream",
          "name": "stdout",
          "text": [
            "This is father property\n",
            "This is son property\n"
          ]
        }
      ]
    },
    {
      "cell_type": "markdown",
      "source": [
        "**7. What is polymorphism in OOP?**\n",
        "   - Polymorphism means \"many forms\".\n",
        "   - It allows one function or method to behave differently depending on the object that’s calling it.\n",
        "   - Polymorphism helps in:\n",
        "           -> Write cleaner code\n",
        "           -> Support method overriding\n",
        "           -> Make code more flexible and extensible\n",
        "   - For Example:\n"
      ],
      "metadata": {
        "id": "EMSeEOa_h2Ey"
      }
    },
    {
      "cell_type": "code",
      "source": [
        "class Sound:\n",
        "  def animal_sounds(self):\n",
        "    print(\"This is animal sound\")\n",
        "class Dog(Sound):\n",
        "  def animal_sounds(self):\n",
        "    print(\"This is dog sound\")\n",
        "class Cat(Sound):\n",
        "  def animal_sounds(self):\n",
        "    print(\"This is cat sound\")\n"
      ],
      "metadata": {
        "id": "hO6yEuo9ifad"
      },
      "execution_count": null,
      "outputs": []
    },
    {
      "cell_type": "code",
      "source": [
        "animals = [Dog(), Cat()]\n",
        "for animal in animals:\n",
        "  animal.animal_sounds()"
      ],
      "metadata": {
        "colab": {
          "base_uri": "https://localhost:8080/"
        },
        "id": "1-MOJd0ZjEUI",
        "outputId": "16a08db9-484c-4fb0-a41c-15461041a197"
      },
      "execution_count": null,
      "outputs": [
        {
          "output_type": "stream",
          "name": "stdout",
          "text": [
            "This is dog sound\n",
            "This is cat sound\n"
          ]
        }
      ]
    },
    {
      "cell_type": "markdown",
      "source": [
        "**8.  How is encapsulation achieved in Python?**\n",
        "   - Encapsulation is the process of bundling data and methods that work on that data into a single unit (class) — and restricting access to some parts of the object.\n",
        "   - It protects data from being accidentally modified.\n",
        "   - Python uses access modifiers to control access to variables and methods like:\n",
        "         -> Public - Variable used (var) - \tAccessible from anywhere\n",
        "         -> Protected - Variable used\t(_var) -\tShould be accessed only in subclass\n",
        "         -> Private - Variable used\t(__var) -\tNot directly accessible from outside the class\n",
        "   - For Example:"
      ],
      "metadata": {
        "id": "sF2qPiC7jr7H"
      }
    },
    {
      "cell_type": "code",
      "source": [
        "class Students:\n",
        "  def __init__(self, name, age):\n",
        "    self.name = name\n",
        "    self._age = age\n",
        "    self.__marks = 0\n",
        "  def set_marks(self, m):\n",
        "    if m>= 0:\n",
        "      self.__marks = m\n",
        "  def get_marks(self):\n",
        "    return self.__marks"
      ],
      "metadata": {
        "id": "dsfIoAqMlExI"
      },
      "execution_count": null,
      "outputs": []
    },
    {
      "cell_type": "code",
      "source": [
        "details = Students(\"Saa\", 19)\n",
        "details.set_marks(98)\n",
        "details.get_marks()"
      ],
      "metadata": {
        "colab": {
          "base_uri": "https://localhost:8080/"
        },
        "id": "V1aOIMtgmdo8",
        "outputId": "b2840939-7e1c-492d-d842-7056331e6684"
      },
      "execution_count": null,
      "outputs": [
        {
          "output_type": "execute_result",
          "data": {
            "text/plain": [
              "98"
            ]
          },
          "metadata": {},
          "execution_count": 26
        }
      ]
    },
    {
      "cell_type": "markdown",
      "source": [
        "**9. What is a constructor in Python?**\n",
        "   - A constructor is a special method that automatically runs when creating a new object from a class.\n",
        "   - It's used to initialize the object’s attributes (like setting up name, age, etc.).\n",
        "   - For Example:\n",
        "\n"
      ],
      "metadata": {
        "id": "xHwsBXUsnMRR"
      }
    },
    {
      "cell_type": "code",
      "source": [
        "class Student:\n",
        "    def __init__(self, name, age):  # constructor\n",
        "        self.name = name\n",
        "        self.age = age\n",
        "\n",
        "    def show(self):\n",
        "        print(f\"Name: {self.name}, Age: {self.age}\")\n",
        "\n",
        "# Creating objects (constructor is called automatically)\n",
        "s1 = Student(\"Saa\", 18)\n",
        "s2 = Student(\"Sara\", 29)\n",
        "\n",
        "s1.show()\n",
        "s2.show()\n"
      ],
      "metadata": {
        "colab": {
          "base_uri": "https://localhost:8080/"
        },
        "id": "c2T1kbwynpY0",
        "outputId": "de41b87b-4440-4dbe-828c-25975ad2e562"
      },
      "execution_count": null,
      "outputs": [
        {
          "output_type": "stream",
          "name": "stdout",
          "text": [
            "Name: Saa, Age: 18\n",
            "Name: Sara, Age: 29\n"
          ]
        }
      ]
    },
    {
      "cell_type": "markdown",
      "source": [
        "**10. What are class and static methods in Python?**\n",
        "   - class method:\n",
        "                -> keyword used: *@classmethod* - Work with class-level data.\n",
        "                -> Take cls as the first argument (refers to the class)\n",
        "   - Static method:\n",
        "                -> keyword used:  @staticmethod - Utility method with no class/object needed.\n",
        "                -> Behaves like a regular function but lives inside a class.\n",
        "   - For example:\n"
      ],
      "metadata": {
        "id": "wYEk_4VzoBPb"
      }
    },
    {
      "cell_type": "code",
      "source": [
        "class Student:\n",
        "    school_name = \"ABCD Public School\"\n",
        "\n",
        "    def __init__(self, name):\n",
        "        self.name = name\n",
        "\n",
        "    def show_name(self):\n",
        "        print(f\"Student Name: {self.name}\")\n",
        "\n",
        "    # Class Method\n",
        "    @classmethod\n",
        "    def show_school(cls):\n",
        "        print(f\"School: {cls.school_name}\")\n",
        "\n",
        "    # Static Method\n",
        "    @staticmethod\n",
        "    def greet():\n",
        "        print(\"Hello! Welcome to our school.\")\n"
      ],
      "metadata": {
        "id": "Tw3bTxuUswcv"
      },
      "execution_count": null,
      "outputs": []
    },
    {
      "cell_type": "code",
      "source": [
        "s = Student(\"Saa\")\n",
        "\n",
        "s.show_name()\n",
        "Student.show_school()   # Class method\n",
        "Student.greet()         # Static method"
      ],
      "metadata": {
        "colab": {
          "base_uri": "https://localhost:8080/"
        },
        "id": "CYRa-pTWs1gB",
        "outputId": "941b6a3a-1fc3-465e-bd9e-21c3c936b488"
      },
      "execution_count": null,
      "outputs": [
        {
          "output_type": "stream",
          "name": "stdout",
          "text": [
            "Student Name: Saa\n",
            "School: ABCD Public School\n",
            "Hello! Welcome to our school.\n"
          ]
        }
      ]
    },
    {
      "cell_type": "markdown",
      "source": [
        "**11. What is method overloading in Python?**\n",
        "   - In general OOP terms, method overloading means, multiple methods with the same name, but different number or type of arguments.\n",
        "   - In Python, if you define a method with the same name more than once in a class, the latest definition replaces the previous one.\n",
        "   - For Example:"
      ],
      "metadata": {
        "id": "kOduDohhtmhr"
      }
    },
    {
      "cell_type": "code",
      "source": [
        "class Calculator:\n",
        "    def add(self, *args):\n",
        "        return sum(args)\n"
      ],
      "metadata": {
        "id": "4rH7myoouaeZ"
      },
      "execution_count": null,
      "outputs": []
    },
    {
      "cell_type": "code",
      "source": [
        "a = Calculator()\n",
        "print(a.add(20,30))\n",
        "print(a.add(20,30,40))\n"
      ],
      "metadata": {
        "colab": {
          "base_uri": "https://localhost:8080/"
        },
        "id": "38QmGK4huePf",
        "outputId": "d9c56b31-587d-49a1-e605-64465968dd4f"
      },
      "execution_count": null,
      "outputs": [
        {
          "output_type": "stream",
          "name": "stdout",
          "text": [
            "50\n",
            "90\n"
          ]
        }
      ]
    },
    {
      "cell_type": "markdown",
      "source": [
        "**12.  What is method overriding in OOP?**\n",
        "   - Method Overriding means: A child class redefines a method from its parent class with the same name, same parameters, but with a new (custom) behavior.\n",
        "   - Must happen in an inheritance hierarchy (child class inherits from parent).\n",
        "   - Method name & parameters must be exactly same.\n",
        "   - The child class's version takes priority when called from an object of the child class.\n",
        "   - For Example:"
      ],
      "metadata": {
        "id": "PpJ8XJ-9vD3M"
      }
    },
    {
      "cell_type": "code",
      "source": [
        "class Sounds:\n",
        "  def ani_sound(self):\n",
        "    print(\"Animal Sounds\")\n",
        "\n",
        "class Dog(Sounds):\n",
        "  def ani_sound(self):\n",
        "    print(\"WOOF!\")\n",
        "\n",
        "class Cat(Sounds):\n",
        "  def ani_sound(self):\n",
        "     print(\"MEOW!\")"
      ],
      "metadata": {
        "id": "cMuNOy6yvwYr"
      },
      "execution_count": null,
      "outputs": []
    },
    {
      "cell_type": "code",
      "source": [
        "ani = Sounds()\n",
        "ani.ani_sound()\n",
        "dog = Dog()\n",
        "dog.ani_sound()\n",
        "cat = Cat()\n",
        "cat.ani_sound()"
      ],
      "metadata": {
        "colab": {
          "base_uri": "https://localhost:8080/"
        },
        "id": "lvgnXoxGwQgb",
        "outputId": "cfd5024e-36a6-4af3-c50c-bb2bab0ccb58"
      },
      "execution_count": null,
      "outputs": [
        {
          "output_type": "stream",
          "name": "stdout",
          "text": [
            "Animal Sounds\n",
            "WOOF!\n",
            "MEOW!\n"
          ]
        }
      ]
    },
    {
      "cell_type": "markdown",
      "source": [
        "**13. What is a property decorator in Python?**\n",
        "   - The *property decorator* is used to turn a method into a \"getter\" — so it can be accessed like an attribute, without parentheses.\n",
        "   - It hides method logic behind a simple attribute-like syntax.\n",
        "   - Add validation/control when getting or setting a value\n",
        "   - It keeps the interface clean\n",
        "   - For Example:"
      ],
      "metadata": {
        "id": "qHCTvDEMwekd"
      }
    },
    {
      "cell_type": "code",
      "source": [
        "class Circle:\n",
        "    def __init__(self, radius):\n",
        "        self._radius = radius\n",
        "\n",
        "    @property\n",
        "    def area(self):\n",
        "        return 3.14 * self._radius ** 2\n",
        "\n",
        "\n"
      ],
      "metadata": {
        "id": "zVe-CyaaxI6G"
      },
      "execution_count": null,
      "outputs": []
    },
    {
      "cell_type": "code",
      "source": [
        "c = Circle(7)\n",
        "print(c.area)\n"
      ],
      "metadata": {
        "colab": {
          "base_uri": "https://localhost:8080/"
        },
        "id": "HvpZqhL3xZKO",
        "outputId": "45ae50fd-1e99-4dea-8a8a-bf31d07d062e"
      },
      "execution_count": null,
      "outputs": [
        {
          "output_type": "stream",
          "name": "stdout",
          "text": [
            "153.86\n"
          ]
        }
      ]
    },
    {
      "cell_type": "markdown",
      "source": [
        "**14. Why is polymorphism important in OOP?**\n",
        "   - Polymorphism means \"many forms\" — it allows the same method name to behave differently depending on the object.\n",
        "   - Polymorphism is important in OOP because:\n",
        "           -> Code Reusability & Cleaner Design\n",
        "           -> Supports Extensibility\n",
        "           -> Enables Interface/Abstract Design\n",
        "           -> Improves Readability & Reduces Complexity\n",
        "   - For Example:\n",
        "\n"
      ],
      "metadata": {
        "id": "qP_7Tz65xltH"
      }
    },
    {
      "cell_type": "code",
      "source": [
        "class Signal:\n",
        "  def sig_colors(self):\n",
        "    print(\"SIGNAL COLORS\")\n",
        "\n",
        "class Red(Signal):\n",
        "  def sig_colors(self):\n",
        "    print(\"RED means STOP\")\n",
        "\n",
        "class Green(Signal):\n",
        "  def sig_colors(self):\n",
        "    print(\"GREEN means GO\")\n",
        "\n"
      ],
      "metadata": {
        "id": "jN2iYrzfyPPl"
      },
      "execution_count": null,
      "outputs": []
    },
    {
      "cell_type": "code",
      "source": [
        "a = Signal()\n",
        "a.sig_colors()\n",
        "b = Red()\n",
        "b.sig_colors()\n",
        "c = Green()\n",
        "c.sig_colors()"
      ],
      "metadata": {
        "colab": {
          "base_uri": "https://localhost:8080/"
        },
        "id": "cWTbpzuxyxGd",
        "outputId": "1ddfa582-f506-4ea7-a1eb-9a77bb7d70cc"
      },
      "execution_count": null,
      "outputs": [
        {
          "output_type": "stream",
          "name": "stdout",
          "text": [
            "SIGNAL COLORS\n",
            "RED means STOP\n",
            "GREEN means GO\n"
          ]
        }
      ]
    },
    {
      "cell_type": "markdown",
      "source": [
        "**15. What is an abstract class in Python?**\n",
        "   - An abstract class is a class that cannot be instantiated directly.\n",
        "   - It’s meant to be a blueprint for other classes.\n",
        "   - It defines methods, but doesn’t always provide full implementation — instead, child classes must override those methods.\n",
        "   - It's use cases:\n",
        "          -> To force subclasses to follow a certain structure\n",
        "          -> To define a common interface for all related classes\n",
        "          -> To hide incomplete functionality in the base class\n",
        "   - For Example:\n",
        "\n"
      ],
      "metadata": {
        "id": "h56PqqpNzBb9"
      }
    },
    {
      "cell_type": "code",
      "source": [
        "from abc import ABC, abstractmethod\n",
        "class Animal(ABC):\n",
        "  @abstractmethod\n",
        "  def sounds(self):\n",
        "    pass\n",
        "\n",
        "class Dog(Animal):\n",
        "  def sounds(self):\n",
        "    print(\"WOOF\")\n",
        "\n",
        "class Cat(Animal):\n",
        "  def sounds(self):\n",
        "    print(\"MEOW\")"
      ],
      "metadata": {
        "id": "fGO922m6zwqh"
      },
      "execution_count": null,
      "outputs": []
    },
    {
      "cell_type": "code",
      "source": [
        "d = Dog()\n",
        "d.sounds()"
      ],
      "metadata": {
        "colab": {
          "base_uri": "https://localhost:8080/"
        },
        "id": "a8gt378q0XdI",
        "outputId": "12e0495b-df5a-49d8-9ee5-9893fcef7a79"
      },
      "execution_count": null,
      "outputs": [
        {
          "output_type": "stream",
          "name": "stdout",
          "text": [
            "WOOF\n"
          ]
        }
      ]
    },
    {
      "cell_type": "markdown",
      "source": [
        "**16. What are the advantages of OOP?**\n",
        "   \n",
        "  *Advantages of OOPS:*\n",
        "   - Modularity - \tEasier to manage and understand\n",
        "   - Reusability -\tUse existing code to build new features faster\n",
        "   - Scalability -\tEasily extend your system with new classes/features\n",
        "   - Encapsulation -\tProtects and controls access to data\n",
        "   - Polymorphism - \tSame interface, different behavior\n",
        "   - Abstraction -\tHides complexity, shows only essential parts\n",
        "   - Realism -\tModels the real world in code intuitively\n",
        "   - For Example:"
      ],
      "metadata": {
        "id": "LIheDsrS0i3b"
      }
    },
    {
      "cell_type": "code",
      "source": [
        "from abc import ABC, abstractmethod\n",
        "\n",
        "# Abstract Class\n",
        "class Person(ABC):\n",
        "    def __init__(self, name, age):\n",
        "        self._name = name            # encapsulation (protected)\n",
        "        self._age = age\n",
        "\n",
        "    @abstractmethod\n",
        "    def show_role(self):\n",
        "        pass\n",
        "\n",
        "# Inherited Classes\n",
        "class Student(Person):\n",
        "    def __init__(self, name, age, grade):\n",
        "        super().__init__(name, age)\n",
        "        self.__grade = grade         # private variable\n",
        "\n",
        "    def show_role(self):\n",
        "        print(f\"{self._name} is a student in grade {self.__grade}.\")\n",
        "\n",
        "    def get_grade(self):             # encapsulation getter\n",
        "        return self.__grade\n",
        "\n",
        "class Teacher(Person):\n",
        "    def __init__(self, name, age, subject):\n",
        "        super().__init__(name, age)\n",
        "        self.subject = subject\n",
        "\n",
        "    def show_role(self):\n",
        "        print(f\"{self._name} is a teacher of {self.subject}.\")\n",
        "\n",
        "# Polymorphism in action\n",
        "def print_role(person):\n",
        "    person.show_role()\n",
        "\n",
        "\n"
      ],
      "metadata": {
        "id": "J6K1pDKu1esT"
      },
      "execution_count": null,
      "outputs": []
    },
    {
      "cell_type": "code",
      "source": [
        "s1 = Student(\"Ava\", 18, \"12th\")\n",
        "t1 = Teacher(\"George\", 75, \"Python Programming\")\n",
        "\n",
        "\n",
        "print_role(s1)\n",
        "print_role(t1)\n",
        "\n",
        "print(\"Grade:\", s1.get_grade())\n"
      ],
      "metadata": {
        "colab": {
          "base_uri": "https://localhost:8080/"
        },
        "id": "LYug1Phh14H-",
        "outputId": "6ab9e978-2f3c-40d1-a3b8-60ecfeddc1b8"
      },
      "execution_count": null,
      "outputs": [
        {
          "output_type": "stream",
          "name": "stdout",
          "text": [
            "Ava is a student in grade 12th.\n",
            "George is a teacher of Python Programming.\n",
            "Grade: 12th\n"
          ]
        }
      ]
    },
    {
      "cell_type": "markdown",
      "source": [
        "**17. What is the difference between a class variable and an instance variable?**\n",
        "   \n",
        "  *class variable:*\n",
        "   - Shared by\t    --> All objects of the class\n",
        "   - Defined using  -->\tInside class, outside __init__()\n",
        "   - Accessed by    --> ClassName.var or object.var\n",
        "   - Changes affect\t--> All objects (if changed via class)\n",
        "  \n",
        "*instance variable:*\n",
        "   - Shared by --> Each object has its own copy\n",
        "   - Defined using\t-->\tInside the __init__() method\n",
        "   - Accessed by\t-->\tOnly via the object (object.var)\n",
        "   - Changes affect --> Only one object\n",
        "   \n",
        "   "
      ],
      "metadata": {
        "id": "qDRw7iEW2Ht4"
      }
    },
    {
      "cell_type": "code",
      "source": [
        "class Student:\n",
        "  school_name = \"ABCD Public School\" # Class variable\n",
        "  def __init__(self,name,age):\n",
        "    self.name = name # Instance variable\n",
        "    self.age = age\n"
      ],
      "metadata": {
        "id": "9l67U8mu3rEC"
      },
      "execution_count": null,
      "outputs": []
    },
    {
      "cell_type": "code",
      "source": [
        "s1 = Student(\"Saa\", 19)\n",
        "s2 = Student(\"Dev\", 21)\n",
        "print(s1.school_name)\n",
        "print(s2.school_name)\n",
        "print(s1.name)\n",
        "print(s2.name)\n",
        "Student.school_name = \"HIJK Public School\"\n",
        "print(s1.school_name)\n",
        "print(s2.school_name)"
      ],
      "metadata": {
        "colab": {
          "base_uri": "https://localhost:8080/"
        },
        "id": "3Ryesi3B4RgI",
        "outputId": "d5a5d076-af1b-47fd-ad78-bb81843752f1"
      },
      "execution_count": null,
      "outputs": [
        {
          "output_type": "stream",
          "name": "stdout",
          "text": [
            "ABCD Public School\n",
            "ABCD Public School\n",
            "Saa\n",
            "Dev\n",
            "HIJK Public School\n",
            "HIJK Public School\n"
          ]
        }
      ]
    },
    {
      "cell_type": "markdown",
      "source": [
        "**18. What is multiple inheritance in Python?**\n",
        "   - Multiple inheritance means a class can inherit from more than one parent class.\n",
        "   - So the child class gets features (methods/attributes) from multiple sources.\n",
        "   - For Example:\n",
        "\n"
      ],
      "metadata": {
        "id": "MY2cDsu75CxS"
      }
    },
    {
      "cell_type": "code",
      "source": [
        "class Grandfather:\n",
        "  def gfather_property(self):\n",
        "    print(\"This is grandfather property\")\n",
        "\n",
        "class Father:\n",
        "  def father_property(self):\n",
        "    print(\"This is father property\")\n",
        "\n",
        "class Son(Grandfather, Father):\n",
        "  def son_property(self):\n",
        "    print(\"This is son property\")\n"
      ],
      "metadata": {
        "id": "G3FhMMzt5Xcq"
      },
      "execution_count": null,
      "outputs": []
    },
    {
      "cell_type": "code",
      "source": [
        "s = Son()\n",
        "s.gfather_property()\n",
        "s.father_property()\n",
        "s.son_property()"
      ],
      "metadata": {
        "colab": {
          "base_uri": "https://localhost:8080/"
        },
        "id": "Zfm-SKxP53v6",
        "outputId": "1281b83c-9a73-4535-eeba-6aa8c40a7805"
      },
      "execution_count": null,
      "outputs": [
        {
          "output_type": "stream",
          "name": "stdout",
          "text": [
            "This is grandfather property\n",
            "This is father property\n",
            "This is son property\n"
          ]
        }
      ]
    },
    {
      "cell_type": "markdown",
      "source": [
        "**19. Explain the purpose of __str__ and __repr__ methods in Python.**\n",
        "\n",
        "__str__():\n",
        "   - Purpose -->\tFor end users (readable)\n",
        "   - Return -->\tNice-looking string, \tUnambiguous\n",
        "   - Called by --> str(obj) or print(obj)\n",
        "   - Best Practice -->\tMake it pretty\n",
        "\n",
        "__repr__():\n",
        "   - Purpose --> For developers (debugging/logging)\n",
        "   - Return\t--> ideally recreatable\n",
        "   - Called by --> repr(obj) or just typing obj\n",
        "   - Best Practice --> Make it precise\n"
      ],
      "metadata": {
        "id": "ZopNTB466U0Z"
      }
    },
    {
      "cell_type": "code",
      "source": [
        "class Sweets:\n",
        "  def __init__(self, name, price):\n",
        "    self.name = name\n",
        "    self.price = price\n",
        "\n",
        "  def __str__(self):\n",
        "    return(f\"This is a yummy {self.name} \")\n",
        "\n",
        "  def __repr__(self):\n",
        "     return f\"{self.name} with a price of {self.price} rupees\""
      ],
      "metadata": {
        "id": "K8EJIBA57sYE"
      },
      "execution_count": null,
      "outputs": []
    },
    {
      "cell_type": "code",
      "source": [
        "sweet = Sweets(\"Cake\", 80 )\n",
        "print(sweet)\n",
        "print(repr(sweet))"
      ],
      "metadata": {
        "colab": {
          "base_uri": "https://localhost:8080/"
        },
        "id": "yg8pefrn8jyv",
        "outputId": "f36d0603-c7b9-4a53-88ed-bbc58fedf3cf"
      },
      "execution_count": null,
      "outputs": [
        {
          "output_type": "stream",
          "name": "stdout",
          "text": [
            "This is a yummy Cake \n",
            "Cake with a price of 80 rupees\n"
          ]
        }
      ]
    },
    {
      "cell_type": "markdown",
      "source": [
        "**20. What is the significance of the ‘super()’ function in Python?**\n",
        "   - The super() function is used to call methods from the parent class — especially the __init__() constructor or overridden methods.\n",
        "   - It helps to reuse code from the base class without rewriting it in the child class.\n",
        "   - It avoids code duplication\n",
        "   - It makescode cleaner and more maintainable\n",
        "   - Supports multiple inheritance\n",
        "   - Ensures that the right method in the inheritance chain is called\n",
        "   - For example:"
      ],
      "metadata": {
        "id": "-heaeyTK9YVk"
      }
    },
    {
      "cell_type": "code",
      "source": [
        "class Stu:\n",
        "  def __init__(self,name):\n",
        "    self.name = name\n",
        "    print(f\"The student name is {self.name}\")\n",
        "\n",
        "class Details(Stu):\n",
        "  def __init__(self, name, age):\n",
        "    super().__init__(name)\n",
        "    self.age = age\n",
        "    print(f\"The age of the student is {self.age}\")\n",
        "\n"
      ],
      "metadata": {
        "id": "6gticjZX-19m"
      },
      "execution_count": null,
      "outputs": []
    },
    {
      "cell_type": "code",
      "source": [
        "s = Details(\"Jack\", 15)"
      ],
      "metadata": {
        "colab": {
          "base_uri": "https://localhost:8080/"
        },
        "id": "-9Zm_J2l_hqg",
        "outputId": "c9503d57-a744-4c7b-f765-a8a11b02b12b"
      },
      "execution_count": null,
      "outputs": [
        {
          "output_type": "stream",
          "name": "stdout",
          "text": [
            "The student name is Jack\n",
            "The age of the student is 15\n"
          ]
        }
      ]
    },
    {
      "cell_type": "markdown",
      "source": [
        "**21. What is the significance of the *__del__* method in Python?**\n",
        "   - The __del__() method is known as a destructor.\n",
        "   - It is automatically called when an object is about to be removed.\n",
        "   - Purpose of del() method:\n",
        "          -> To clean up resources before an object is deleted\n",
        "          -> To release external connections like: Files, Network sockets, Databases\n",
        "   - For example:"
      ],
      "metadata": {
        "id": "5-3rzMWsAsvu"
      }
    },
    {
      "cell_type": "code",
      "source": [
        "class Filehandle:\n",
        "  def __init__(self, filename):\n",
        "    self.file = open(filename, \"w\")\n",
        "    print(\"File opened\")\n",
        "\n",
        "  def write_data(self, data):\n",
        "    self.file.write(data)\n",
        "\n",
        "  def __del__(self):\n",
        "    self.file.close()\n",
        "    print(\"File closed and Destroyed\")\n",
        "\n",
        "\n",
        "\n"
      ],
      "metadata": {
        "id": "Xl6c9-2rBsR6"
      },
      "execution_count": null,
      "outputs": []
    },
    {
      "cell_type": "code",
      "source": [
        "f = Filehandle(\"myfile.txt\")\n",
        "f.write_data(\"Hello Everyone!\")\n",
        "del f"
      ],
      "metadata": {
        "colab": {
          "base_uri": "https://localhost:8080/"
        },
        "id": "mgJO1-1QCssL",
        "outputId": "db543416-36a3-4594-f179-8851b7a5d20a"
      },
      "execution_count": null,
      "outputs": [
        {
          "output_type": "stream",
          "name": "stdout",
          "text": [
            "File opened\n",
            "File closed and Destroyed\n"
          ]
        }
      ]
    },
    {
      "cell_type": "markdown",
      "source": [
        "**22. What is the difference between @staticmethod and @classmethod in Python?**\n",
        "*staticmethod:*\n",
        "\n",
        "    - First Parameter\t- No automatic first argument\n",
        "    - Cannot access Class Data\n",
        "    - Used For\t- Utility/helper functions\n",
        "    - It is not Inheritance Aware\n",
        "    - Called With\tClass or object\n",
        "\n",
        "*classmethod:*\n",
        "   \n",
        "    - First Parameter\t-  Takes cls (the class itself)\n",
        "    - Access Class Data\n",
        "    - Used For Factory methods / class-level operations\n",
        "    - Inheritance Aware\n",
        "    - Called With\tClass or object"
      ],
      "metadata": {
        "id": "m7cAVEmQDgGC"
      }
    },
    {
      "cell_type": "code",
      "source": [
        "class Cake:\n",
        "    flavor = \"Chocolate\"\n",
        "\n",
        "    def __init__(self, size):\n",
        "        self.size = size\n",
        "\n",
        "    @staticmethod\n",
        "    def welcome():\n",
        "        print(\"Welcome to the Cake Shop!\")\n",
        "\n",
        "    @classmethod\n",
        "    def change_flavor(cls, new_flavor):\n",
        "        cls.flavor = new_flavor\n"
      ],
      "metadata": {
        "id": "Nl8Z0TPXKlsw"
      },
      "execution_count": 87,
      "outputs": []
    },
    {
      "cell_type": "code",
      "source": [
        "Cake.welcome()\n",
        "\n",
        "print(Cake.flavor)\n",
        "Cake.change_flavor(\"Vanilla\")\n",
        "print(Cake.flavor)\n"
      ],
      "metadata": {
        "colab": {
          "base_uri": "https://localhost:8080/"
        },
        "id": "sIqDw4pRLENh",
        "outputId": "d558413b-07a2-46a2-e0ab-ad80973969da"
      },
      "execution_count": 88,
      "outputs": [
        {
          "output_type": "stream",
          "name": "stdout",
          "text": [
            "Welcome to the Cake Shop!\n",
            "Chocolate\n",
            "Vanilla\n"
          ]
        }
      ]
    },
    {
      "cell_type": "markdown",
      "source": [
        "**23. How does polymorphism work in Python with inheritance?**\n",
        "   - Polymorphism allows one method name to behave differently based on the object that’s calling it.\n",
        "   - When a parent class defines a method, and a child class overrides that method with its own version, this is polymorphism.\n",
        "   - Makes the code flexible, clean, and easily extensible.\n",
        "   - For example:"
      ],
      "metadata": {
        "id": "75m2mdSGL_LD"
      }
    },
    {
      "cell_type": "code",
      "source": [
        "class Pets:\n",
        "  def sound(self):\n",
        "    print(\"This is the sound of the animal\")\n",
        "\n",
        "class Birds(Pets):\n",
        "  def sound(self):\n",
        "    print(\"Birds chirp\")\n",
        "\n",
        "class Cat(Pets):\n",
        "  def sound(self):\n",
        "    print(\"Meow!\")"
      ],
      "metadata": {
        "id": "OPEfwf01NIWN"
      },
      "execution_count": 91,
      "outputs": []
    },
    {
      "cell_type": "code",
      "source": [
        "pet = Pets()\n",
        "pet.sound()\n",
        "pet1 = Birds()\n",
        "pet1.sound()\n",
        "pet2 = Cat()\n",
        "pet2.sound()"
      ],
      "metadata": {
        "colab": {
          "base_uri": "https://localhost:8080/"
        },
        "id": "ML6H8LVONhxL",
        "outputId": "038226a0-8370-4de3-ad7a-7bf47afaf588"
      },
      "execution_count": 92,
      "outputs": [
        {
          "output_type": "stream",
          "name": "stdout",
          "text": [
            "This is the sound of the animal\n",
            "Birds chirp\n",
            "Meow!\n"
          ]
        }
      ]
    },
    {
      "cell_type": "markdown",
      "source": [
        "**24. What is method chaining in Python OOP?**\n",
        "   - Method chaining is the practice of calling multiple methods on the same object in a single line, one after another.\n",
        "   - Each method returns the object itself allowing to chain the next method.\n",
        "   - Clean syntax\t- Fewer lines, more readable\n",
        "   - Fluent interface\n",
        "   - Reduces variables -\tNo need to store intermediate results\n",
        "   - Chained operations\n",
        "   - For example:"
      ],
      "metadata": {
        "id": "B_mqxWn7OIvh"
      }
    },
    {
      "cell_type": "code",
      "source": [
        "class Grandfather:\n",
        "    def gfather_property(self):\n",
        "        print(\"Grandfather property\")\n",
        "        return self\n",
        "\n",
        "class Father(Grandfather):\n",
        "    def father_property(self):\n",
        "        print(\"Father property\")\n",
        "        return self\n",
        "\n",
        "class Son(Father):\n",
        "    def son_property(self):\n",
        "        print(\"Son property\")\n",
        "        return self\n"
      ],
      "metadata": {
        "id": "NSAKUq7tPSH5"
      },
      "execution_count": 105,
      "outputs": []
    },
    {
      "cell_type": "code",
      "source": [
        "prop = Son()\n",
        "prop.gfather_property().father_property().son_property()"
      ],
      "metadata": {
        "colab": {
          "base_uri": "https://localhost:8080/"
        },
        "id": "oA73I51PQHAk",
        "outputId": "60122afa-81b5-4e32-ac02-f1cf2663f1de"
      },
      "execution_count": 183,
      "outputs": [
        {
          "output_type": "stream",
          "name": "stdout",
          "text": [
            "Grandfather property\n",
            "Father property\n",
            "Son property\n"
          ]
        },
        {
          "output_type": "execute_result",
          "data": {
            "text/plain": [
              "<__main__.Son at 0x79b3e2d3b590>"
            ]
          },
          "metadata": {},
          "execution_count": 183
        }
      ]
    },
    {
      "cell_type": "markdown",
      "source": [
        "**25. What is the purpose of the *__call__* method in Python?**\n",
        "   - The __call__() method allows an instance of a class to be called like a function.\n",
        "   - Adds custom behavior on function call\n",
        "   - Stores internal state\t--> Stateful counters, accumulators, etc.\n",
        "   - For example:"
      ],
      "metadata": {
        "id": "DVP_JogxSFOx"
      }
    },
    {
      "cell_type": "code",
      "source": [
        "class Greet:\n",
        "  def __call__(self,name):\n",
        "    print(f\"Hello, {name}!\")\n",
        "\n"
      ],
      "metadata": {
        "id": "eKmXSRwWS9_4"
      },
      "execution_count": 113,
      "outputs": []
    },
    {
      "cell_type": "code",
      "source": [
        "a = Greet()\n",
        "a(\"Geetha\")"
      ],
      "metadata": {
        "colab": {
          "base_uri": "https://localhost:8080/"
        },
        "id": "SPuO9lpxTRGE",
        "outputId": "9d8f993f-9302-486f-bade-9e0907c027bc"
      },
      "execution_count": 114,
      "outputs": [
        {
          "output_type": "stream",
          "name": "stdout",
          "text": [
            "Hello, Geetha!\n"
          ]
        }
      ]
    },
    {
      "cell_type": "markdown",
      "source": [
        "# Python OOPs - Practical Questions"
      ],
      "metadata": {
        "id": "Fw-Opu74T76L"
      }
    },
    {
      "cell_type": "markdown",
      "source": [
        "**1. Create a parent class Animal with a method speak() that prints a generic message. Create a child class Dog\n",
        "that overrides the speak() method to print \"Bark!\".**"
      ],
      "metadata": {
        "id": "iMJFGclcUB5T"
      }
    },
    {
      "cell_type": "code",
      "source": [
        "class Animal:\n",
        "  def speak(self):\n",
        "    print(\"This is the sound of the animal\")\n",
        "\n",
        "class Dog(Animal):\n",
        "  def speak(self):\n",
        "    print(\"Bark!\")"
      ],
      "metadata": {
        "id": "CgrhYNJTUVHs"
      },
      "execution_count": 115,
      "outputs": []
    },
    {
      "cell_type": "code",
      "source": [
        "animal_sound = Animal()\n",
        "animal_sound.speak()\n",
        "dog_sound = Dog()\n",
        "dog_sound.speak()"
      ],
      "metadata": {
        "colab": {
          "base_uri": "https://localhost:8080/"
        },
        "id": "dYbkO6siUon4",
        "outputId": "063a594c-0446-41c5-8a04-125941255a58"
      },
      "execution_count": 116,
      "outputs": [
        {
          "output_type": "stream",
          "name": "stdout",
          "text": [
            "This is the sound of the animal\n",
            "Bark!\n"
          ]
        }
      ]
    },
    {
      "cell_type": "markdown",
      "source": [
        "**2. Write a program to create an abstract class Shape with a method area(). Derive classes Circle and Rectangle\n",
        "from it and implement the area() method in both.**"
      ],
      "metadata": {
        "id": "HbMxZSzeU5Th"
      }
    },
    {
      "cell_type": "code",
      "source": [
        "from abc import ABC, abstractmethod\n",
        "import math\n",
        "\n",
        "class Shape(ABC):\n",
        "    @abstractmethod\n",
        "    def area(self):\n",
        "        pass\n",
        "\n",
        "\n",
        "class Circle(Shape):\n",
        "    def __init__(self, radius):\n",
        "        self.radius = radius\n",
        "\n",
        "    def area(self):\n",
        "        return math.pi * self.radius ** 2\n",
        "\n",
        "\n",
        "class Rectangle(Shape):\n",
        "    def __init__(self, length, width):\n",
        "        self.length = length\n",
        "        self.width = width\n",
        "\n",
        "    def area(self):\n",
        "        return self.length * self.width\n",
        "\n"
      ],
      "metadata": {
        "id": "AcKHeoCgVXLk"
      },
      "execution_count": 117,
      "outputs": []
    },
    {
      "cell_type": "code",
      "source": [
        "circle = Circle(8)\n",
        "rectangle = Rectangle(4, 6)\n",
        "\n",
        "print(f\"Area of Circle: {circle.area()}\")\n",
        "print(f\"Area of Rectangle: {rectangle.area()}\")"
      ],
      "metadata": {
        "colab": {
          "base_uri": "https://localhost:8080/"
        },
        "id": "LnU5fWH5V2mP",
        "outputId": "591f5c0a-e343-44e8-ada3-7678e516bdc7"
      },
      "execution_count": 125,
      "outputs": [
        {
          "output_type": "stream",
          "name": "stdout",
          "text": [
            "Area of Circle: 201.06192982974676\n",
            "Area of Rectangle: 24\n"
          ]
        }
      ]
    },
    {
      "cell_type": "markdown",
      "source": [
        "**3.  Implement a multi-level inheritance scenario where a class Vehicle has an attribute type. Derive a class Car\n",
        "and further derive a class ElectricCar that adds a battery attribute.**"
      ],
      "metadata": {
        "id": "E8UtY_ZNYOSf"
      }
    },
    {
      "cell_type": "code",
      "source": [
        "class Vehicle:\n",
        "    def __init__(self, vehicle_type):\n",
        "        self.vehicle_type = vehicle_type\n",
        "\n",
        "\n",
        "class Car(Vehicle):\n",
        "    def __init__(self, vehicle_type, brand):\n",
        "        super().__init__(vehicle_type)\n",
        "        self.brand = brand\n",
        "\n",
        "\n",
        "class ElectricCar(Car):\n",
        "    def __init__(self, vehicle_type, brand, battery):\n",
        "        super().__init__(vehicle_type, brand)\n",
        "        self.battery = battery\n",
        "\n",
        "    def display_info(self):\n",
        "        print(\"Vehicle Type:\", self.vehicle_type)\n",
        "        print(\"Brand:\", self.brand)\n",
        "        print(\"Battery Capacity:\", self.battery, \"kWh\")"
      ],
      "metadata": {
        "id": "SJGJsniRYaS4"
      },
      "execution_count": 126,
      "outputs": []
    },
    {
      "cell_type": "code",
      "source": [
        "car = ElectricCar(\"Four-Wheeler\", \"BMW\", 75)\n",
        "car.display_info()\n"
      ],
      "metadata": {
        "colab": {
          "base_uri": "https://localhost:8080/"
        },
        "id": "S62DEJ5GZCd9",
        "outputId": "f55851b2-3cbd-43cc-ced0-363c4869b2ef"
      },
      "execution_count": 128,
      "outputs": [
        {
          "output_type": "stream",
          "name": "stdout",
          "text": [
            "Vehicle Type: Four-Wheeler\n",
            "Brand: BMW\n",
            "Battery Capacity: 75 kWh\n"
          ]
        }
      ]
    },
    {
      "cell_type": "markdown",
      "source": [
        "**4.  Demonstrate polymorphism by creating a base class Bird with a method fly(). Create two derived classes\n",
        "Sparrow and Penguin that override the fly() method.**\n"
      ],
      "metadata": {
        "id": "_SrhHtm7ZdFl"
      }
    },
    {
      "cell_type": "code",
      "source": [
        "class Bird:\n",
        "  def fly(self):\n",
        "    print(\"Birds can fly!\")\n",
        "\n",
        "class Sparrow(Bird):\n",
        "  def fly(self):\n",
        "    print(\"Sparrow can fly!\")\n",
        "\n",
        "class Penguin(Bird):\n",
        "  def fly(self):\n",
        "    print(\"Penguin cannot fly!\")"
      ],
      "metadata": {
        "id": "n9BdMgiqZpFP"
      },
      "execution_count": 129,
      "outputs": []
    },
    {
      "cell_type": "code",
      "source": [
        "bird = Bird()\n",
        "bird.fly()\n",
        "sparrow=Sparrow()\n",
        "sparrow.fly()\n",
        "penguin = Penguin()\n",
        "penguin.fly()"
      ],
      "metadata": {
        "colab": {
          "base_uri": "https://localhost:8080/"
        },
        "id": "6A5XMWb9aJhi",
        "outputId": "4b9e5e5c-7973-4fb6-a332-f5ba888f1d82"
      },
      "execution_count": 130,
      "outputs": [
        {
          "output_type": "stream",
          "name": "stdout",
          "text": [
            "Birds can fly!\n",
            "Sparrow can fly!\n",
            "Penguin cannot fly!\n"
          ]
        }
      ]
    },
    {
      "cell_type": "markdown",
      "source": [
        "**5.Write a program to demonstrate encapsulation by creating a class BankAccount with private attributes balance and methods to deposit, withdraw, and check balance.**"
      ],
      "metadata": {
        "id": "PYn5BZaDbFii"
      }
    },
    {
      "cell_type": "code",
      "source": [
        "class BankAccount:\n",
        "    def __init__(self, initial_balance):\n",
        "        self.__balance = initial_balance\n",
        "\n",
        "\n",
        "    def deposit(self, amount):\n",
        "        if amount > 0:\n",
        "            self.__balance += amount\n",
        "            print(f\"Deposited: ₹{amount}\")\n",
        "        else:\n",
        "            print(\"Invalid deposit amount!\")\n",
        "\n",
        "\n",
        "    def withdraw(self, amount):\n",
        "        if 0 < amount <= self.__balance:\n",
        "            self.__balance -= amount\n",
        "            print(f\"Withdrawn: ₹{amount}\")\n",
        "        else:\n",
        "            print(\"Insufficient balance or invalid amount!\")\n",
        "\n",
        "    def check_balance(self):\n",
        "        print(f\"Current Balance: ₹{self.__balance}\")\n",
        "\n",
        "\n",
        "\n",
        "\n",
        "\n"
      ],
      "metadata": {
        "id": "Y9Ps8s5ObOZ6"
      },
      "execution_count": 131,
      "outputs": []
    },
    {
      "cell_type": "code",
      "source": [
        "acc = BankAccount(5000)\n",
        "acc.check_balance()\n",
        "acc.deposit(2000)\n",
        "acc.withdraw(1000)\n",
        "acc.check_balance()"
      ],
      "metadata": {
        "colab": {
          "base_uri": "https://localhost:8080/"
        },
        "id": "xPEul2s5bmPe",
        "outputId": "f98fa22e-87df-4ffe-d6a1-e59988618a10"
      },
      "execution_count": 132,
      "outputs": [
        {
          "output_type": "stream",
          "name": "stdout",
          "text": [
            "Current Balance: ₹5000\n",
            "Deposited: ₹2000\n",
            "Withdrawn: ₹1000\n",
            "Current Balance: ₹6000\n"
          ]
        }
      ]
    },
    {
      "cell_type": "markdown",
      "source": [
        "**6.  Demonstrate runtime polymorphism using a method play() in a base class Instrument. Derive classes Guitar and Piano that implement their own version of play().**"
      ],
      "metadata": {
        "id": "u8hm85yMcOpL"
      }
    },
    {
      "cell_type": "code",
      "source": [
        "class Instrument:\n",
        "    def play(self):\n",
        "        print(\"Playing an instrument\")\n",
        "\n",
        "\n",
        "class Guitar(Instrument):\n",
        "    def play(self):\n",
        "        print(\"Playing the guitar\")\n",
        "\n",
        "\n",
        "class Piano(Instrument):\n",
        "    def play(self):\n",
        "        print(\"Playing the piano\")\n",
        "\n",
        "\n",
        "def perform_play(instrument):\n",
        "    instrument.play()"
      ],
      "metadata": {
        "id": "0lE_PuM-ccf9"
      },
      "execution_count": 133,
      "outputs": []
    },
    {
      "cell_type": "code",
      "source": [
        "g = Guitar()\n",
        "p = Piano()\n",
        "\n",
        "perform_play(g)\n",
        "perform_play(p)"
      ],
      "metadata": {
        "colab": {
          "base_uri": "https://localhost:8080/"
        },
        "id": "tQP1ymPXpk7U",
        "outputId": "1c391625-7130-4db1-8c9d-1f22d6a4b843"
      },
      "execution_count": 134,
      "outputs": [
        {
          "output_type": "stream",
          "name": "stdout",
          "text": [
            "Playing the guitar\n",
            "Playing the piano\n"
          ]
        }
      ]
    },
    {
      "cell_type": "markdown",
      "source": [
        "**7.  Create a class MathOperations with a class method add_numbers() to add two numbers and a static method subtract_numbers() to subtract two numbers.**"
      ],
      "metadata": {
        "id": "J2RneMg0pqVr"
      }
    },
    {
      "cell_type": "code",
      "source": [
        "class MathOperations:\n",
        "\n",
        "    @classmethod # class method\n",
        "    def add_numbers(cls, a, b):\n",
        "        return a + b\n",
        "\n",
        "\n",
        "    @staticmethod # Static method\n",
        "    def subtract_numbers(a, b):\n",
        "        return a - b\n",
        "\n",
        "\n"
      ],
      "metadata": {
        "id": "tjUeAw2UpyS-"
      },
      "execution_count": 135,
      "outputs": []
    },
    {
      "cell_type": "code",
      "source": [
        "print(\"Addition:\", MathOperations.add_numbers(10, 5))\n",
        "print(\"Subtraction:\", MathOperations.subtract_numbers(10, 5))"
      ],
      "metadata": {
        "colab": {
          "base_uri": "https://localhost:8080/"
        },
        "id": "diVLzSIeqXEh",
        "outputId": "0c51b416-bfd7-487e-f38a-4fb68ad1aa24"
      },
      "execution_count": 136,
      "outputs": [
        {
          "output_type": "stream",
          "name": "stdout",
          "text": [
            "Addition: 15\n",
            "Subtraction: 5\n"
          ]
        }
      ]
    },
    {
      "cell_type": "markdown",
      "source": [
        "**8. Implement a class Person with a class method to count the total number of persons created.**"
      ],
      "metadata": {
        "id": "4wcEYLcfqfUE"
      }
    },
    {
      "cell_type": "code",
      "source": [
        "class Person:\n",
        "  count = 0\n",
        "  def __init__(self,name):\n",
        "    self.name = name\n",
        "    Person.count += 1\n",
        "\n",
        "  @classmethod\n",
        "  def total_persons(cls):\n",
        "    return cls.count\n",
        "\n",
        "\n",
        ""
      ],
      "metadata": {
        "id": "mMO4nD5wqllR"
      },
      "execution_count": 137,
      "outputs": []
    },
    {
      "cell_type": "code",
      "source": [
        "p1 = Person(\"Manisha\")\n",
        "p2 = Person(\"Balu\")\n",
        "p3 = Person(\"Tisha\")\n",
        "\n",
        "\n",
        "print(\"Total persons created:\", Person.total_persons())"
      ],
      "metadata": {
        "colab": {
          "base_uri": "https://localhost:8080/"
        },
        "id": "d7P0KtPLrQIc",
        "outputId": "880f60b6-0881-4aea-838a-c30795987c5c"
      },
      "execution_count": 138,
      "outputs": [
        {
          "output_type": "stream",
          "name": "stdout",
          "text": [
            "Total persons created: 3\n"
          ]
        }
      ]
    },
    {
      "cell_type": "markdown",
      "source": [
        "**9.  Write a class Fraction with attributes numerator and denominator. Override the str method to display the fraction as \"numerator/denominator\".**"
      ],
      "metadata": {
        "id": "vGt_9avfrfdt"
      }
    },
    {
      "cell_type": "code",
      "source": [
        "class Fraction:\n",
        "  def __init__(self, numerator, denominator):\n",
        "    self.numerator = numerator\n",
        "    self.denominator = denominator\n",
        "\n",
        "  def __str__(self):\n",
        "      return f\"{self.numerator}/{self.denominator}\""
      ],
      "metadata": {
        "id": "yK_LCdvOrmW8"
      },
      "execution_count": 142,
      "outputs": []
    },
    {
      "cell_type": "code",
      "source": [
        "f1 = Fraction(3, 4)\n",
        "f2 = Fraction(7, 2)\n",
        "\n",
        "print(f1)\n",
        "print(f2)"
      ],
      "metadata": {
        "colab": {
          "base_uri": "https://localhost:8080/"
        },
        "id": "I55Hk-h6sWp1",
        "outputId": "d018b84f-8b4d-40b7-fe63-e30543cbe89d"
      },
      "execution_count": 143,
      "outputs": [
        {
          "output_type": "stream",
          "name": "stdout",
          "text": [
            "3/4\n",
            "7/2\n"
          ]
        }
      ]
    },
    {
      "cell_type": "markdown",
      "source": [
        "**10.  Demonstrate operator overloading by creating a class Vector and overriding the add method to add two vectors.**\n",
        "\n",
        "\n"
      ],
      "metadata": {
        "id": "idc9DIImtE53"
      }
    },
    {
      "cell_type": "code",
      "source": [
        "class Vector:\n",
        "  def __init__(self, x, y):\n",
        "    self.x = x\n",
        "    self.y = y\n",
        "\n",
        "  def __add__(self, other):\n",
        "    return Vector(self.x + other.x, self.y + other.y)\n",
        "\n",
        "  def __str__(self):\n",
        "    return f\"({self.x}, {self.y})\"\n"
      ],
      "metadata": {
        "id": "DYtZbQbItMnx"
      },
      "execution_count": 144,
      "outputs": []
    },
    {
      "cell_type": "code",
      "source": [
        "a1 = Vector(2,3)\n",
        "a2 = Vector(4,5)\n",
        "a3 = a1 + a2\n",
        "print(\"Vector 1:\", a1)\n",
        "print(\"Vector 2:\", a2)\n",
        "print(\"Sum:\", a3)"
      ],
      "metadata": {
        "colab": {
          "base_uri": "https://localhost:8080/"
        },
        "id": "9aRp5g7yt9oy",
        "outputId": "99e3559b-e883-4927-eed5-f4d2bb4fb7fe"
      },
      "execution_count": 146,
      "outputs": [
        {
          "output_type": "stream",
          "name": "stdout",
          "text": [
            "Vector 1: (2, 3)\n",
            "Vector 2: (4, 5)\n",
            "Sum: (6, 8)\n"
          ]
        }
      ]
    },
    {
      "cell_type": "markdown",
      "source": [
        "**11. Create a class Person with attributes name and age. Add a method greet() that prints \"Hello, my name is {name} and I am {age} years old.\"**"
      ],
      "metadata": {
        "id": "FbNmv8akuy2J"
      }
    },
    {
      "cell_type": "code",
      "source": [
        "class Person:\n",
        "  def __init__(self, name, age):\n",
        "    self.name = name\n",
        "    self.age = age\n",
        "\n",
        "  def greet(self):\n",
        "    print(f\"Hello, my name is {self.name} and I am {self.age} years old\")\n"
      ],
      "metadata": {
        "id": "6cl_LKxHu7Ff"
      },
      "execution_count": 147,
      "outputs": []
    },
    {
      "cell_type": "code",
      "source": [
        "p1 = Person(\"Saa\", 19)\n",
        "p1.greet()"
      ],
      "metadata": {
        "colab": {
          "base_uri": "https://localhost:8080/"
        },
        "id": "7S45rOVmvpRN",
        "outputId": "1e53db43-8cb4-4ee6-db79-09a8c88076cf"
      },
      "execution_count": 148,
      "outputs": [
        {
          "output_type": "stream",
          "name": "stdout",
          "text": [
            "Hello, my name is Saa and I am 19 years old\n"
          ]
        }
      ]
    },
    {
      "cell_type": "markdown",
      "source": [
        "**12.  Implement a class Student with attributes name and grades. Create a method average_grade() to compute the average of the grades.**"
      ],
      "metadata": {
        "id": "Tklk9Yeyv7nP"
      }
    },
    {
      "cell_type": "code",
      "source": [
        "class Student:\n",
        "  def __init__(self, name, grades):\n",
        "    self.name = name\n",
        "    self.grades = grades\n",
        "\n",
        "  def average_grade(self):\n",
        "    return sum(self.grades)/len(self.grades)"
      ],
      "metadata": {
        "id": "3f7cFJOHwCDR"
      },
      "execution_count": 149,
      "outputs": []
    },
    {
      "cell_type": "code",
      "source": [
        "s1 = Student(\"John\", [85, 90, 78, 92])\n",
        "print(f\"{s1.name}'s average grade: {s1.average_grade()}\")\n"
      ],
      "metadata": {
        "colab": {
          "base_uri": "https://localhost:8080/"
        },
        "id": "5Q5hszo_wvuo",
        "outputId": "be8d7631-dae0-4d08-c6f1-b1b9d9aa6bff"
      },
      "execution_count": 151,
      "outputs": [
        {
          "output_type": "stream",
          "name": "stdout",
          "text": [
            "John's average grade: 86.25\n"
          ]
        }
      ]
    },
    {
      "cell_type": "markdown",
      "source": [
        "**13. Create a class Rectangle with methods set_dimensions() to set the dimensions and area() to calculate the area.**"
      ],
      "metadata": {
        "id": "ibR2vfLexBOy"
      }
    },
    {
      "cell_type": "code",
      "source": [
        "class Rectangle:\n",
        "    def __init__(self):\n",
        "        self.length = 0\n",
        "        self.width = 0\n",
        "\n",
        "    def set_dimensions(self, length, width):\n",
        "        self.length = length\n",
        "        self.width = width\n",
        "\n",
        "    def area(self):\n",
        "        return self.length * self.width\n",
        "\n",
        "\n"
      ],
      "metadata": {
        "id": "z0Ngi9CWxIbg"
      },
      "execution_count": 152,
      "outputs": []
    },
    {
      "cell_type": "code",
      "source": [
        "rect = Rectangle()\n",
        "rect.set_dimensions(12, 20)\n",
        "print(\"Area of the rectangle:\", rect.area())"
      ],
      "metadata": {
        "colab": {
          "base_uri": "https://localhost:8080/"
        },
        "id": "4GJQ2Z2qx55n",
        "outputId": "ad320439-aa9b-4bb6-c3fd-0650321a622f"
      },
      "execution_count": 153,
      "outputs": [
        {
          "output_type": "stream",
          "name": "stdout",
          "text": [
            "Area of the rectangle: 240\n"
          ]
        }
      ]
    },
    {
      "cell_type": "markdown",
      "source": [
        "**14.  Create a class Employee with a method calculate_salary() that computes the salary based on hours worked and hourly rate. Create a derived class Manager that adds a bonus to the salary.**"
      ],
      "metadata": {
        "id": "HjOyc-prx_m-"
      }
    },
    {
      "cell_type": "code",
      "source": [
        "class Employee:\n",
        "    def __init__(self, name, hours_worked, hourly_rate):\n",
        "        self.name = name\n",
        "        self.hours_worked = hours_worked\n",
        "        self.hourly_rate = hourly_rate\n",
        "\n",
        "    def calculate_salary(self):\n",
        "        return self.hours_worked * self.hourly_rate\n",
        "\n",
        "class Manager(Employee):\n",
        "    def __init__(self, name, hours_worked, hourly_rate, bonus):\n",
        "        super().__init__(name, hours_worked, hourly_rate)\n",
        "        self.bonus = bonus\n",
        "\n",
        "    def calculate_salary(self):\n",
        "        base_salary = super().calculate_salary()\n",
        "        return base_salary + self.bonus\n",
        "\n"
      ],
      "metadata": {
        "id": "k4Z-HZLpyIyB"
      },
      "execution_count": 157,
      "outputs": []
    },
    {
      "cell_type": "code",
      "source": [
        "emp = Employee(\"Dev\", 40, 20)\n",
        "print(f\"{emp.name}'s Salary: {emp.calculate_salary()}\")\n",
        "\n",
        "mgr = Manager(\"Sham\", 40, 20, 500)\n",
        "print(f\"{mgr.name}'s Salary: {mgr.calculate_salary()}\")"
      ],
      "metadata": {
        "colab": {
          "base_uri": "https://localhost:8080/"
        },
        "id": "c0_nIAARykvP",
        "outputId": "9818173e-3754-49c4-aa11-45edd5c5169b"
      },
      "execution_count": 161,
      "outputs": [
        {
          "output_type": "stream",
          "name": "stdout",
          "text": [
            "Dev's Salary: 800\n",
            "Sham's Salary: 1300\n"
          ]
        }
      ]
    },
    {
      "cell_type": "markdown",
      "source": [
        "**15. Create a class Product with attributes name, price, and quantity. Implement a method total_price() that calculates the total price of the product.**"
      ],
      "metadata": {
        "id": "tnW0LpINz7Er"
      }
    },
    {
      "cell_type": "code",
      "source": [
        "class Product:\n",
        "  def __init__(self, name, price, quantity):\n",
        "    self.name = name\n",
        "    self.price = price\n",
        "    self.quantity = quantity\n",
        "\n",
        "  def total_price(self):\n",
        "    return self.price * self.quantity"
      ],
      "metadata": {
        "id": "bAxyFQT70AUO"
      },
      "execution_count": 162,
      "outputs": []
    },
    {
      "cell_type": "code",
      "source": [
        "item = Product(\"Notebook\", 150, 3)\n",
        "print(f\"Total price of {item.name}: {item.total_price()}\")"
      ],
      "metadata": {
        "colab": {
          "base_uri": "https://localhost:8080/"
        },
        "id": "gB40Ev2i0m7n",
        "outputId": "07f5ce34-071a-452e-951f-f9e8975e1a49"
      },
      "execution_count": 166,
      "outputs": [
        {
          "output_type": "stream",
          "name": "stdout",
          "text": [
            "Total price of Notebook: 450\n"
          ]
        }
      ]
    },
    {
      "cell_type": "markdown",
      "source": [
        "**16. Create a class Animal with an abstract method sound(). Create two derived classes Cow and Sheep that implement the sound() method.**"
      ],
      "metadata": {
        "id": "3YbJBT3M1b-2"
      }
    },
    {
      "cell_type": "code",
      "source": [
        "from abc import ABC, abstractmethod\n",
        "class Animal(ABC):\n",
        "  @abstractmethod\n",
        "  def sound(self):\n",
        "    pass\n",
        "\n",
        "\n",
        "class Cow(Animal):\n",
        "  def sound(self):\n",
        "    print(\"Moo!\")\n",
        "\n",
        "class Sheep(Animal):\n",
        "  def sound(self):\n",
        "    print(\"Baa!\")"
      ],
      "metadata": {
        "id": "qRjXj6PG1xka"
      },
      "execution_count": 173,
      "outputs": []
    },
    {
      "cell_type": "code",
      "source": [
        "cow = Cow()\n",
        "sheep = Sheep()\n",
        "\n",
        "cow.sound()\n",
        "sheep.sound()"
      ],
      "metadata": {
        "colab": {
          "base_uri": "https://localhost:8080/"
        },
        "id": "vVzjUJRv2KU5",
        "outputId": "9a9ece64-50d2-41df-a8b4-d5d4a5a133b6"
      },
      "execution_count": 175,
      "outputs": [
        {
          "output_type": "stream",
          "name": "stdout",
          "text": [
            "Moo!\n",
            "Baa!\n"
          ]
        }
      ]
    },
    {
      "cell_type": "markdown",
      "source": [
        "**17. Create a class Book with attributes title, author, and year_published. Add a method get_book_info() that returns a formatted string with the book's details.**"
      ],
      "metadata": {
        "id": "-p6DksZ728gN"
      }
    },
    {
      "cell_type": "code",
      "source": [
        "class Book:\n",
        "    def __init__(self, title, author, year_published):\n",
        "        self.title = title\n",
        "        self.author = author\n",
        "        self.year_published = year_published\n",
        "\n",
        "    def get_book_info(self):\n",
        "        return f\"'{self.title}' by {self.author}, published in {self.year_published}\""
      ],
      "metadata": {
        "id": "7VcpfUnd3JaS"
      },
      "execution_count": 179,
      "outputs": []
    },
    {
      "cell_type": "code",
      "source": [
        "book = Book(\"Wings of Fire\", \"Dr. A.P.J. Abdul Kalam\", 1999)\n",
        "print(book.get_book_info())\n"
      ],
      "metadata": {
        "colab": {
          "base_uri": "https://localhost:8080/"
        },
        "id": "RT_-zbtv3Uj1",
        "outputId": "f0ca1768-c0d1-4bd5-a786-9504462df31f"
      },
      "execution_count": 180,
      "outputs": [
        {
          "output_type": "stream",
          "name": "stdout",
          "text": [
            "'Wings of Fire' by Dr. A.P.J. Abdul Kalam, published in 1999\n"
          ]
        }
      ]
    },
    {
      "cell_type": "markdown",
      "source": [
        "**18.  Create a class House with attributes address and price. Create a derived class Mansion that adds an attribute number_of_rooms.**"
      ],
      "metadata": {
        "id": "F4IyIocJ4Blk"
      }
    },
    {
      "cell_type": "code",
      "source": [
        "class House:\n",
        "  def __init__(self, address, price):\n",
        "    self.address = address\n",
        "    self.price = price\n",
        "\n",
        "class Mansion(House):\n",
        "  def __init__(self, address, price, number_of_rooms):\n",
        "    super().__init__(address, price)\n",
        "    self.number_of_rooms = number_of_rooms\n",
        ""
      ],
      "metadata": {
        "id": "TLiR6z4V4JrL"
      },
      "execution_count": 181,
      "outputs": []
    },
    {
      "cell_type": "code",
      "source": [
        "mansion1 = Mansion(\"123 Street, Bangalore\", 50000000, 5)\n",
        "\n",
        "print(\"Address:\", mansion1.address)\n",
        "print(\"Price: \", mansion1.price)\n",
        "print(\"Number of Rooms:\", mansion1.number_of_rooms)"
      ],
      "metadata": {
        "colab": {
          "base_uri": "https://localhost:8080/"
        },
        "id": "Ph8XfixS46eZ",
        "outputId": "abe2824b-00bb-41de-c0b3-f9755b16c8ae"
      },
      "execution_count": 182,
      "outputs": [
        {
          "output_type": "stream",
          "name": "stdout",
          "text": [
            "Address: 123 Street, Bangalore\n",
            "Price:  50000000\n",
            "Number of Rooms: 5\n"
          ]
        }
      ]
    }
  ]
}